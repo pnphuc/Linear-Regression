{
 "cells": [
  {
   "cell_type": "markdown",
   "id": "c6f2b694",
   "metadata": {},
   "source": [
    "# Linear Regression"
   ]
  },
  {
   "cell_type": "markdown",
   "id": "23346b82",
   "metadata": {},
   "source": [
    "Tên: Phùng Nghĩa Phúc\n",
    "MSV: 20127284\n",
    "Lớp: 20CLC07"
   ]
  },
  {
   "cell_type": "code",
   "execution_count": 1,
   "id": "0baea6b0",
   "metadata": {},
   "outputs": [
    {
     "data": {
      "text/html": [
       "<div>\n",
       "<style scoped>\n",
       "    .dataframe tbody tr th:only-of-type {\n",
       "        vertical-align: middle;\n",
       "    }\n",
       "\n",
       "    .dataframe tbody tr th {\n",
       "        vertical-align: top;\n",
       "    }\n",
       "\n",
       "    .dataframe thead th {\n",
       "        text-align: right;\n",
       "    }\n",
       "</style>\n",
       "<table border=\"1\" class=\"dataframe\">\n",
       "  <thead>\n",
       "    <tr style=\"text-align: right;\">\n",
       "      <th></th>\n",
       "      <th>fixed acidity</th>\n",
       "      <th>volatile acidity</th>\n",
       "      <th>citric acid</th>\n",
       "      <th>residual sugar</th>\n",
       "      <th>chlorides</th>\n",
       "      <th>free sulfur dioxide</th>\n",
       "      <th>total sulfur dioxide</th>\n",
       "      <th>density</th>\n",
       "      <th>pH</th>\n",
       "      <th>sulphates</th>\n",
       "      <th>alcohol</th>\n",
       "      <th>quality</th>\n",
       "    </tr>\n",
       "  </thead>\n",
       "  <tbody>\n",
       "    <tr>\n",
       "      <th>0</th>\n",
       "      <td>7.4</td>\n",
       "      <td>0.700</td>\n",
       "      <td>0.00</td>\n",
       "      <td>1.9</td>\n",
       "      <td>0.076</td>\n",
       "      <td>11.0</td>\n",
       "      <td>34</td>\n",
       "      <td>0.99780</td>\n",
       "      <td>3.51</td>\n",
       "      <td>0.56</td>\n",
       "      <td>9.4</td>\n",
       "      <td>5</td>\n",
       "    </tr>\n",
       "    <tr>\n",
       "      <th>1</th>\n",
       "      <td>7.8</td>\n",
       "      <td>0.880</td>\n",
       "      <td>0.00</td>\n",
       "      <td>2.6</td>\n",
       "      <td>0.098</td>\n",
       "      <td>25.0</td>\n",
       "      <td>67</td>\n",
       "      <td>0.99680</td>\n",
       "      <td>3.20</td>\n",
       "      <td>0.68</td>\n",
       "      <td>9.8</td>\n",
       "      <td>5</td>\n",
       "    </tr>\n",
       "    <tr>\n",
       "      <th>2</th>\n",
       "      <td>7.8</td>\n",
       "      <td>0.760</td>\n",
       "      <td>0.04</td>\n",
       "      <td>2.3</td>\n",
       "      <td>0.092</td>\n",
       "      <td>15.0</td>\n",
       "      <td>54</td>\n",
       "      <td>0.99700</td>\n",
       "      <td>3.26</td>\n",
       "      <td>0.65</td>\n",
       "      <td>9.8</td>\n",
       "      <td>5</td>\n",
       "    </tr>\n",
       "    <tr>\n",
       "      <th>3</th>\n",
       "      <td>11.2</td>\n",
       "      <td>0.280</td>\n",
       "      <td>0.56</td>\n",
       "      <td>1.9</td>\n",
       "      <td>0.075</td>\n",
       "      <td>17.0</td>\n",
       "      <td>60</td>\n",
       "      <td>0.99800</td>\n",
       "      <td>3.16</td>\n",
       "      <td>0.58</td>\n",
       "      <td>9.8</td>\n",
       "      <td>6</td>\n",
       "    </tr>\n",
       "    <tr>\n",
       "      <th>4</th>\n",
       "      <td>7.4</td>\n",
       "      <td>0.700</td>\n",
       "      <td>0.00</td>\n",
       "      <td>1.9</td>\n",
       "      <td>0.076</td>\n",
       "      <td>11.0</td>\n",
       "      <td>34</td>\n",
       "      <td>0.99780</td>\n",
       "      <td>3.51</td>\n",
       "      <td>0.56</td>\n",
       "      <td>9.4</td>\n",
       "      <td>5</td>\n",
       "    </tr>\n",
       "    <tr>\n",
       "      <th>...</th>\n",
       "      <td>...</td>\n",
       "      <td>...</td>\n",
       "      <td>...</td>\n",
       "      <td>...</td>\n",
       "      <td>...</td>\n",
       "      <td>...</td>\n",
       "      <td>...</td>\n",
       "      <td>...</td>\n",
       "      <td>...</td>\n",
       "      <td>...</td>\n",
       "      <td>...</td>\n",
       "      <td>...</td>\n",
       "    </tr>\n",
       "    <tr>\n",
       "      <th>1194</th>\n",
       "      <td>7.0</td>\n",
       "      <td>0.745</td>\n",
       "      <td>0.12</td>\n",
       "      <td>1.8</td>\n",
       "      <td>0.114</td>\n",
       "      <td>15.0</td>\n",
       "      <td>64</td>\n",
       "      <td>0.99588</td>\n",
       "      <td>3.22</td>\n",
       "      <td>0.59</td>\n",
       "      <td>9.5</td>\n",
       "      <td>6</td>\n",
       "    </tr>\n",
       "    <tr>\n",
       "      <th>1195</th>\n",
       "      <td>6.2</td>\n",
       "      <td>0.430</td>\n",
       "      <td>0.22</td>\n",
       "      <td>1.8</td>\n",
       "      <td>0.078</td>\n",
       "      <td>21.0</td>\n",
       "      <td>56</td>\n",
       "      <td>0.99633</td>\n",
       "      <td>3.52</td>\n",
       "      <td>0.60</td>\n",
       "      <td>9.5</td>\n",
       "      <td>6</td>\n",
       "    </tr>\n",
       "    <tr>\n",
       "      <th>1196</th>\n",
       "      <td>7.9</td>\n",
       "      <td>0.580</td>\n",
       "      <td>0.23</td>\n",
       "      <td>2.3</td>\n",
       "      <td>0.076</td>\n",
       "      <td>23.0</td>\n",
       "      <td>94</td>\n",
       "      <td>0.99686</td>\n",
       "      <td>3.21</td>\n",
       "      <td>0.58</td>\n",
       "      <td>9.5</td>\n",
       "      <td>6</td>\n",
       "    </tr>\n",
       "    <tr>\n",
       "      <th>1197</th>\n",
       "      <td>7.7</td>\n",
       "      <td>0.570</td>\n",
       "      <td>0.21</td>\n",
       "      <td>1.5</td>\n",
       "      <td>0.069</td>\n",
       "      <td>4.0</td>\n",
       "      <td>9</td>\n",
       "      <td>0.99458</td>\n",
       "      <td>3.16</td>\n",
       "      <td>0.54</td>\n",
       "      <td>9.8</td>\n",
       "      <td>6</td>\n",
       "    </tr>\n",
       "    <tr>\n",
       "      <th>1198</th>\n",
       "      <td>7.7</td>\n",
       "      <td>0.260</td>\n",
       "      <td>0.26</td>\n",
       "      <td>2.0</td>\n",
       "      <td>0.052</td>\n",
       "      <td>19.0</td>\n",
       "      <td>77</td>\n",
       "      <td>0.99510</td>\n",
       "      <td>3.15</td>\n",
       "      <td>0.79</td>\n",
       "      <td>10.9</td>\n",
       "      <td>6</td>\n",
       "    </tr>\n",
       "  </tbody>\n",
       "</table>\n",
       "<p>1199 rows × 12 columns</p>\n",
       "</div>"
      ],
      "text/plain": [
       "      fixed acidity  volatile acidity  citric acid  residual sugar  chlorides  \\\n",
       "0               7.4             0.700         0.00             1.9      0.076   \n",
       "1               7.8             0.880         0.00             2.6      0.098   \n",
       "2               7.8             0.760         0.04             2.3      0.092   \n",
       "3              11.2             0.280         0.56             1.9      0.075   \n",
       "4               7.4             0.700         0.00             1.9      0.076   \n",
       "...             ...               ...          ...             ...        ...   \n",
       "1194            7.0             0.745         0.12             1.8      0.114   \n",
       "1195            6.2             0.430         0.22             1.8      0.078   \n",
       "1196            7.9             0.580         0.23             2.3      0.076   \n",
       "1197            7.7             0.570         0.21             1.5      0.069   \n",
       "1198            7.7             0.260         0.26             2.0      0.052   \n",
       "\n",
       "      free sulfur dioxide  total sulfur dioxide  density    pH  sulphates  \\\n",
       "0                    11.0                    34  0.99780  3.51       0.56   \n",
       "1                    25.0                    67  0.99680  3.20       0.68   \n",
       "2                    15.0                    54  0.99700  3.26       0.65   \n",
       "3                    17.0                    60  0.99800  3.16       0.58   \n",
       "4                    11.0                    34  0.99780  3.51       0.56   \n",
       "...                   ...                   ...      ...   ...        ...   \n",
       "1194                 15.0                    64  0.99588  3.22       0.59   \n",
       "1195                 21.0                    56  0.99633  3.52       0.60   \n",
       "1196                 23.0                    94  0.99686  3.21       0.58   \n",
       "1197                  4.0                     9  0.99458  3.16       0.54   \n",
       "1198                 19.0                    77  0.99510  3.15       0.79   \n",
       "\n",
       "      alcohol  quality  \n",
       "0         9.4        5  \n",
       "1         9.8        5  \n",
       "2         9.8        5  \n",
       "3         9.8        6  \n",
       "4         9.4        5  \n",
       "...       ...      ...  \n",
       "1194      9.5        6  \n",
       "1195      9.5        6  \n",
       "1196      9.5        6  \n",
       "1197      9.8        6  \n",
       "1198     10.9        6  \n",
       "\n",
       "[1199 rows x 12 columns]"
      ]
     },
     "execution_count": 1,
     "metadata": {},
     "output_type": "execute_result"
    }
   ],
   "source": [
    "import pandas as pd\n",
    "df = pd.read_csv('C:/Users/Decane/Desktop/toan thong ke/project 3- linear regression/wine.csv', sep=';')\n",
    "df"
   ]
  },
  {
   "cell_type": "markdown",
   "id": "11c420b5",
   "metadata": {},
   "source": [
    "## a. Sử dụng toàn bộ 11 đặc trưng đề bài cung cấp,\n",
    "y=theta_1x_1+theta_2x_2+...+theta_11x_11"
   ]
  },
  {
   "cell_type": "code",
   "execution_count": 2,
   "id": "463501b5",
   "metadata": {},
   "outputs": [],
   "source": [
    "import numpy as np"
   ]
  },
  {
   "cell_type": "code",
   "execution_count": 3,
   "id": "22ad8abe",
   "metadata": {},
   "outputs": [],
   "source": [
    "def getAB(a, b):\n",
    "    return np.hstack((np.ones((a.shape[0], 1)), a)), b"
   ]
  },
  {
   "cell_type": "code",
   "execution_count": 4,
   "id": "d5f22450",
   "metadata": {},
   "outputs": [
    {
     "data": {
      "text/plain": [
       "array([[ 42.9],\n",
       "       [  0. ],\n",
       "       [ -1.1],\n",
       "       [ -0.3],\n",
       "       [  0. ],\n",
       "       [ -1.6],\n",
       "       [  0. ],\n",
       "       [ -0. ],\n",
       "       [-39.5],\n",
       "       [ -0.2],\n",
       "       [  0.8],\n",
       "       [  0.3]])"
      ]
     },
     "execution_count": 4,
     "metadata": {},
     "output_type": "execute_result"
    }
   ],
   "source": [
    "x = np.array(df.iloc[:, :-1])\n",
    "y = np.array(df.iloc[:, -1]).reshape(-1, 1)\n",
    "\n",
    "a, b = getAB(x, y)\n",
    "theta = (np.linalg.pinv(a)@b)\n",
    "\n",
    "ans = np.round(theta,1)\n",
    "ans"
   ]
  },
  {
   "cell_type": "code",
   "execution_count": 5,
   "id": "04734755",
   "metadata": {},
   "outputs": [
    {
     "data": {
      "text/plain": [
       "22.095"
      ]
     },
     "execution_count": 5,
     "metadata": {},
     "output_type": "execute_result"
    }
   ],
   "source": [
    "r_score = np.round((np.linalg.norm(a@theta - b)), 3)\n",
    "\n",
    "r_score"
   ]
  },
  {
   "cell_type": "markdown",
   "id": "0395a3b7",
   "metadata": {},
   "source": [
    "## b. Sử dụng duy nhất 1 đặc trưng cho kết quả tốt nhất. (Gợi ý: Phương pháp Cross Validation) \n",
    "y=theta_ix_i (dùng mô hình lần lượt cho từng đặc trưng)."
   ]
  },
  {
   "cell_type": "code",
   "execution_count": 6,
   "id": "dc8f0467",
   "metadata": {},
   "outputs": [],
   "source": [
    "def r_score(x, y):\n",
    "    result = 0\n",
    "    \n",
    "    new_X = np.array_split(x, min(len(x), 5))\n",
    "    new_Y = np.array_split(y, min(len(y), 5))\n",
    "    \n",
    "    for i in range(5):\n",
    "        x_test = new_X[i]\n",
    "        y_test = new_Y[i]\n",
    "        \n",
    "        x_train = np.array([])\n",
    "        y_train = np.array([])\n",
    "        \n",
    "        for j in range(5):\n",
    "            if i != j:\n",
    "                x_train = np.append(x_train, new_X[j])\n",
    "                y_train = np.append(y_train, new_Y[j])\n",
    "                \n",
    "        x_train = x_train.reshape(-1, 1)\n",
    "        y_train = y_train.reshape(-1, 1)\n",
    "        \n",
    "        new_A, new_B = getAB(x_train, y_train)\n",
    "        old_A, old_B = getAB(x_test, y_test)\n",
    "        \n",
    "        theta = np.linalg.pinv(new_A) @ new_B\n",
    "        \n",
    "        r_score = np.linalg.norm(old_A @ theta - old_B)\n",
    "        result += r_score\n",
    "    \n",
    "    return result/5"
   ]
  },
  {
   "cell_type": "code",
   "execution_count": 7,
   "id": "b4b2423c",
   "metadata": {},
   "outputs": [
    {
     "data": {
      "text/plain": [
       "[10.896303487242815, 'alcohol']"
      ]
     },
     "execution_count": 7,
     "metadata": {},
     "output_type": "execute_result"
    }
   ],
   "source": [
    "def cross_validation(df):\n",
    "    result = []\n",
    "    y = np.array(df.iloc[:, -1]).reshape(-1, 1)\n",
    "    \n",
    "    for i in df.columns[:-1]:\n",
    "        x = np.array(df[i]).reshape(-1, 1)\n",
    "        r = r_score(x, y)\n",
    "        result.append([r, i]) \n",
    "    return result[-1]\n",
    "cross_validation(df)"
   ]
  },
  {
   "cell_type": "code",
   "execution_count": 8,
   "id": "b3f471e8",
   "metadata": {},
   "outputs": [
    {
     "name": "stdout",
     "output_type": "stream",
     "text": [
      "Đặc trưng cho kết quả tốt nhất là alcohol và r = 10.896\n"
     ]
    }
   ],
   "source": [
    "r_score, name = cross_validation(df)\n",
    "\n",
    "print(f'Đặc trưng cho kết quả tốt nhất là {name} và r = {np.round(r_score,3)}')"
   ]
  },
  {
   "cell_type": "markdown",
   "id": "b48496b8",
   "metadata": {},
   "source": [
    "## c. Xây dựng một mô hình của riêng bạn cho kết quả tốt nhất."
   ]
  },
  {
   "cell_type": "code",
   "execution_count": 9,
   "id": "35f9fd13",
   "metadata": {},
   "outputs": [],
   "source": [
    "def r_score(x, y):\n",
    "    x_test = x[1000:]\n",
    "    y_test = y[1000:]\n",
    "    \n",
    "    x_train = x[:1000]    \n",
    "    y_train = y[:1000]\n",
    "    \n",
    "    new_A, new_B = getAB(x_train, y_train)\n",
    "    old_A, old_B = getAB(x_test, y_test)\n",
    "\n",
    "    theta = np.linalg.pinv(new_A) @ new_B\n",
    "    \n",
    "    result = np.linalg.norm(old_A @ theta - old_B)\n",
    "    return result"
   ]
  },
  {
   "cell_type": "code",
   "execution_count": 10,
   "id": "fa8d6aa9",
   "metadata": {},
   "outputs": [
    {
     "data": {
      "text/plain": [
       "[9.862217648422789, 'alcohol']"
      ]
     },
     "execution_count": 10,
     "metadata": {},
     "output_type": "execute_result"
    }
   ],
   "source": [
    "def calculator(df):\n",
    "    result = []\n",
    "    y = np.array(df.iloc[:, -1]).reshape(-1, 1)\n",
    "    \n",
    "    for i in df.columns[:-1]:\n",
    "        x = np.array(df[i]).reshape(-1, 1)\n",
    "        r = r_score(x, y)   \n",
    "        result.append([r, i])\n",
    "    return result[-1]\n",
    "calculator(df)"
   ]
  },
  {
   "cell_type": "code",
   "execution_count": 11,
   "id": "51abbd25",
   "metadata": {},
   "outputs": [
    {
     "name": "stdout",
     "output_type": "stream",
     "text": [
      "Đặc trưng cho kết quả tốt nhất là alcohol và r = 9.862\n"
     ]
    }
   ],
   "source": [
    "r_score, name = calculator(df)\n",
    "\n",
    "print(f'Đặc trưng cho kết quả tốt nhất là {name} và r = {np.round(r_score,3)}')"
   ]
  }
 ],
 "metadata": {
  "kernelspec": {
   "display_name": "Python 3 (ipykernel)",
   "language": "python",
   "name": "python3"
  },
  "language_info": {
   "codemirror_mode": {
    "name": "ipython",
    "version": 3
   },
   "file_extension": ".py",
   "mimetype": "text/x-python",
   "name": "python",
   "nbconvert_exporter": "python",
   "pygments_lexer": "ipython3",
   "version": "3.9.7"
  }
 },
 "nbformat": 4,
 "nbformat_minor": 5
}
